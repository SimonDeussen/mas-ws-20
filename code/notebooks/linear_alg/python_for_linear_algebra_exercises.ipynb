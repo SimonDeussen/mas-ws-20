{
 "cells": [
  {
   "cell_type": "markdown",
   "metadata": {},
   "source": [
    "# Python For Linear Algebra\n",
    "\n",
    "### Author: Santosh Muthireddy\n",
    "\n",
    "# Requirements\n",
    "* Numpy\n",
    "* python3\n"
   ]
  },
  {
   "cell_type": "markdown",
   "metadata": {},
   "source": [
    "#### Go through the previous content of python for linear algebra\n",
    "In this we focus on \n",
    "* ndarray\n",
    "* Arithmetic operations\n",
    "* Indexing\n",
    "* Slicing\n",
    "\n",
    "## Different ways to initialise and declare a numpy array"
   ]
  },
  {
   "cell_type": "code",
   "execution_count": 1,
   "metadata": {},
   "outputs": [],
   "source": [
    "import numpy as np"
   ]
  },
  {
   "cell_type": "code",
   "execution_count": 2,
   "metadata": {},
   "outputs": [],
   "source": [
    "# Function to print 1d array\n",
    "def print_array_1d(arr):\n",
    "    print(\"data:\",arr)\n",
    "    print(\"array type:\",type(arr))\n",
    "    print(\"data type:\",type(arr[0]))\n",
    "    print(\"shape:\",arr.shape)\n",
    "    print(\"--------------------\")\n",
    "    \n",
    "# Function to print 2d array    \n",
    "def print_array_2d(arr):\n",
    "    print(\"data:\",arr)\n",
    "    print(\"array type:\",type(arr))\n",
    "    print(\"data type:\",type(arr[0][0]))\n",
    "    print(\"shape:\",arr.shape)\n",
    "    print(\"--------------------\")"
   ]
  },
  {
   "cell_type": "code",
   "execution_count": 8,
   "metadata": {},
   "outputs": [
    {
     "name": "stdout",
     "output_type": "stream",
     "text": [
      "data: [1 2 3 4 5]\n",
      "array type: <class 'numpy.ndarray'>\n",
      "data type: <class 'numpy.int64'>\n",
      "shape: (5,)\n",
      "--------------------\n",
      "data: [0.1 0.5 0.9 2.3]\n",
      "array type: <class 'numpy.ndarray'>\n",
      "data type: <class 'numpy.float64'>\n",
      "shape: (4,)\n",
      "--------------------\n",
      "data: [1. 2. 3. 4. 5.]\n",
      "array type: <class 'numpy.ndarray'>\n",
      "data type: <class 'numpy.float64'>\n",
      "shape: (5,)\n",
      "--------------------\n",
      "data: [0 0 0 2]\n",
      "array type: <class 'numpy.ndarray'>\n",
      "data type: <class 'numpy.int64'>\n",
      "shape: (4,)\n",
      "--------------------\n"
     ]
    }
   ],
   "source": [
    "# 1D array, int\n",
    "arr1 = np.array([1,2,3,4,5])\n",
    "print_array_1d(arr1)\n",
    "\n",
    "\n",
    "#1D array, float\n",
    "arr2 = np.array([0.1,0.5,0.9,2.3])\n",
    "print_array_1d(arr2)\n",
    "\n",
    "#1D array, defining dtype\n",
    "arr1 = np.array([1,2,3,4,5],dtype=np.float)\n",
    "print_array_1d(arr1)\n",
    "\n",
    "arr2 = np.array([0.1,0.5,0.9,2.3],dtype=np.int)\n",
    "print_array_1d(arr2)"
   ]
  },
  {
   "cell_type": "code",
   "execution_count": 6,
   "metadata": {},
   "outputs": [
    {
     "name": "stdout",
     "output_type": "stream",
     "text": [
      "data: [[1 2]\n",
      " [3 4]\n",
      " [5 6]]\n",
      "array type: <class 'numpy.ndarray'>\n",
      "data type: <class 'numpy.int64'>\n",
      "shape: (3, 2)\n",
      "--------------------\n",
      "data: [[0.1 0.5]\n",
      " [0.9 2.3]]\n",
      "array type: <class 'numpy.ndarray'>\n",
      "data type: <class 'numpy.ndarray'>\n",
      "shape: (2, 2)\n",
      "--------------------\n"
     ]
    }
   ],
   "source": [
    "# 2D array, int\n",
    "arr1 = np.array([[1,2],[3,4],[5,6]])\n",
    "print_array_2d(arr1)\n",
    "\n",
    "#2D array, float\n",
    "arr2 = np.array([[0.1,0.5],[0.9,2.3]])\n",
    "print_array_1d(arr2)"
   ]
  },
  {
   "cell_type": "code",
   "execution_count": 17,
   "metadata": {
    "scrolled": true
   },
   "outputs": [
    {
     "name": "stdout",
     "output_type": "stream",
     "text": [
      "data: [1 2 3 4 5 6]\n",
      "array type: <class 'numpy.ndarray'>\n",
      "data type: <class 'numpy.int64'>\n",
      "shape: (6,)\n",
      "--------------------\n",
      "data: [[1 2]\n",
      " [3 4]\n",
      " [5 6]]\n",
      "array type: <class 'numpy.ndarray'>\n",
      "data type: <class 'numpy.int64'>\n",
      "shape: (3, 2)\n",
      "--------------------\n"
     ]
    }
   ],
   "source": [
    "#Making 2D array from 1D array\n",
    "#numpy reshape can be used to change the shape of the array\n",
    "arr1 = np.array([1,2,3,4,5,6])\n",
    "print_array_1d(arr1)\n",
    "arr1 = np.reshape(arr1,(3,2))\n",
    "print_array_2d(arr1)"
   ]
  },
  {
   "cell_type": "code",
   "execution_count": 24,
   "metadata": {},
   "outputs": [
    {
     "name": "stdout",
     "output_type": "stream",
     "text": [
      "data: [0.  0.1 0.2 0.3 0.4 0.5 0.6 0.7 0.8 0.9 1. ]\n",
      "array type: <class 'numpy.ndarray'>\n",
      "data type: <class 'numpy.float64'>\n",
      "shape: (11,)\n",
      "--------------------\n",
      "data: [2 3 4 5]\n",
      "array type: <class 'numpy.ndarray'>\n",
      "data type: <class 'numpy.int64'>\n",
      "shape: (4,)\n",
      "--------------------\n",
      "data: [0.  0.2 0.4 0.6 0.8 1.  1.2 1.4 1.6 1.8 2.  2.2 2.4 2.6 2.8 3.  3.2 3.4\n",
      " 3.6 3.8 4.  4.2 4.4 4.6 4.8 5.  5.2 5.4 5.6 5.8]\n",
      "array type: <class 'numpy.ndarray'>\n",
      "data type: <class 'numpy.float64'>\n",
      "shape: (30,)\n",
      "--------------------\n"
     ]
    }
   ],
   "source": [
    "# Using np.arange(), returns evenly spaced values in given interval\n",
    "#Generating numpy array with step 1\n",
    "arr1 = np.arange(0, 1.1, 0.1)\n",
    "print_array_1d(arr1)\n",
    "\n",
    "arr1 = np.arange(2,6)\n",
    "print_array_1d(arr1)\n",
    "# Generating numpy array with step 0.5\n",
    "arr1 = np.arange(0,6,0.2)\n",
    "print_array_1d(arr1)"
   ]
  },
  {
   "cell_type": "code",
   "execution_count": 23,
   "metadata": {},
   "outputs": [
    {
     "name": "stdout",
     "output_type": "stream",
     "text": [
      "data: [0.         0.66666667 1.33333333 2.         2.66666667 3.33333333\n",
      " 4.         4.66666667 5.33333333 6.        ]\n",
      "array type: <class 'numpy.ndarray'>\n",
      "data type: <class 'numpy.float64'>\n",
      "shape: (10,)\n",
      "--------------------\n",
      "data: [0.  0.6 1.2 1.8 2.4 3.  3.6 4.2 4.8 5.4]\n",
      "array type: <class 'numpy.ndarray'>\n",
      "data type: <class 'numpy.float64'>\n",
      "shape: (10,)\n",
      "--------------------\n",
      "(array([0. , 0.6, 1.2, 1.8, 2.4, 3. , 3.6, 4.2, 4.8, 5.4]), 0.6)\n"
     ]
    }
   ],
   "source": [
    "# Using np.linspace(), returns evenly spaced numbers over speified interval\n",
    "#Generating numpy array\n",
    "arr1 = np.linspace(0,6,num=10)\n",
    "print_array_1d(arr1)\n",
    "\n",
    "arr1 = np.linspace(0,6,num=10,endpoint=False)\n",
    "print_array_1d(arr1)\n",
    "\n",
    "arr1 = np.linspace(0,6,num=10,endpoint=False,retstep=True)\n",
    "print(arr1)\n"
   ]
  },
  {
   "cell_type": "code",
   "execution_count": 28,
   "metadata": {},
   "outputs": [
    {
     "name": "stdout",
     "output_type": "stream",
     "text": [
      "data: [[5 5 5]\n",
      " [5 5 5]\n",
      " [5 5 5]]\n",
      "array type: <class 'numpy.ndarray'>\n",
      "data type: <class 'numpy.int64'>\n",
      "shape: (3, 3)\n",
      "--------------------\n",
      "data: [[0 0 0]\n",
      " [0 0 0]\n",
      " [0 0 0]]\n",
      "array type: <class 'numpy.ndarray'>\n",
      "data type: <class 'numpy.int64'>\n",
      "shape: (3, 3)\n",
      "--------------------\n"
     ]
    }
   ],
   "source": [
    "# Array with ones\n",
    "arr1 = np.ones((3,3), dtype=np.int) * 5\n",
    "print_array_2d(arr1)\n",
    "\n",
    "# Array with zeros\n",
    "arr1 = np.zeros((3,3),dtype=np.int)\n",
    "print_array_2d(arr1)"
   ]
  },
  {
   "cell_type": "code",
   "execution_count": 26,
   "metadata": {},
   "outputs": [
    {
     "name": "stdout",
     "output_type": "stream",
     "text": [
      "data: [0.26661361 0.80184411 0.40498296 0.90715029 0.66915314 0.25416713]\n",
      "array type: <class 'numpy.ndarray'>\n",
      "data type: <class 'numpy.float64'>\n",
      "shape: (6,)\n",
      "--------------------\n",
      "data: [[0.17446845 0.60484954]\n",
      " [0.37799509 0.64121789]\n",
      " [0.08673519 0.56469823]]\n",
      "array type: <class 'numpy.ndarray'>\n",
      "data type: <class 'numpy.float64'>\n",
      "shape: (3, 2)\n",
      "--------------------\n"
     ]
    }
   ],
   "source": [
    "#Generating random array\n",
    "arr1 = np.random.rand(6)\n",
    "print_array_1d(arr1)\n",
    "\n",
    "arr1 = np.random.rand(3,2)\n",
    "print_array_2d(arr1)"
   ]
  },
  {
   "cell_type": "code",
   "execution_count": 31,
   "metadata": {},
   "outputs": [
    {
     "data": {
      "text/plain": [
       "array([[[66.01789556, 87.86058134, 89.21780523, 58.9220902 ],\n",
       "        [72.94099552, 78.56539527, 50.98153644, 93.95968186],\n",
       "        [51.0385481 , 60.89427387, 94.11645258, 60.75573328],\n",
       "        [80.23640916, 59.40913938, 68.31188074, 54.61388017],\n",
       "        [66.4869728 , 56.34388701, 63.46684905, 71.72355661]],\n",
       "\n",
       "       [[71.53688574, 90.04569711, 51.69325075, 53.51825662],\n",
       "        [70.68058644, 74.69952544, 93.25566272, 58.88537856],\n",
       "        [62.53504389, 54.60970757, 99.69933376, 69.76573727],\n",
       "        [82.58733309, 59.63488515, 71.1513273 , 84.39956961],\n",
       "        [67.98848134, 66.81650163, 86.38230413, 61.91222963]],\n",
       "\n",
       "       [[80.00595518, 82.29811177, 77.09984341, 90.90803178],\n",
       "        [85.99618591, 80.60107677, 78.01598526, 80.49390347],\n",
       "        [99.65504615, 94.32141089, 71.14436108, 55.03710537],\n",
       "        [62.67324008, 73.60447967, 72.68649023, 64.56883189],\n",
       "        [80.9270119 , 93.09640593, 81.87215424, 63.18168429]]])"
      ]
     },
     "execution_count": 31,
     "metadata": {},
     "output_type": "execute_result"
    }
   ],
   "source": [
    "np.random.uniform(50, high=100, size=(3,5,4))"
   ]
  },
  {
   "cell_type": "markdown",
   "metadata": {},
   "source": [
    "## Slicing numpy array"
   ]
  },
  {
   "cell_type": "code",
   "execution_count": 32,
   "metadata": {},
   "outputs": [
    {
     "name": "stdout",
     "output_type": "stream",
     "text": [
      "[0 1 2 3 4 5 6 7 8 9]\n"
     ]
    }
   ],
   "source": [
    "start = 3\n",
    "end = 7\n",
    "arr1 = np.arange(10)\n",
    "print(arr1)"
   ]
  },
  {
   "cell_type": "code",
   "execution_count": 33,
   "metadata": {},
   "outputs": [
    {
     "name": "stdout",
     "output_type": "stream",
     "text": [
      "[0 1 2 3 4 5 6]\n"
     ]
    }
   ],
   "source": [
    "#slicing till a point from start\n",
    "print(arr1[:end])"
   ]
  },
  {
   "cell_type": "code",
   "execution_count": 34,
   "metadata": {},
   "outputs": [
    {
     "name": "stdout",
     "output_type": "stream",
     "text": [
      "[3 4 5 6 7 8 9]\n"
     ]
    }
   ],
   "source": [
    "#slicing from a point to end\n",
    "print(arr1[start:])"
   ]
  },
  {
   "cell_type": "code",
   "execution_count": 35,
   "metadata": {},
   "outputs": [
    {
     "name": "stdout",
     "output_type": "stream",
     "text": [
      "[3 4 5 6]\n"
     ]
    }
   ],
   "source": [
    "#slicing between points\n",
    "print(arr1[start:end])"
   ]
  },
  {
   "cell_type": "code",
   "execution_count": 36,
   "metadata": {},
   "outputs": [
    {
     "name": "stdout",
     "output_type": "stream",
     "text": [
      "[0 2 4 6 8]\n"
     ]
    }
   ],
   "source": [
    "#every number with n skips\n",
    "n = 2\n",
    "print(arr1[::n])"
   ]
  },
  {
   "cell_type": "code",
   "execution_count": 37,
   "metadata": {},
   "outputs": [
    {
     "name": "stdout",
     "output_type": "stream",
     "text": [
      "[9 8 7 6 5 4 3 2 1 0]\n"
     ]
    }
   ],
   "source": [
    "#reverse\n",
    "print(arr1[::-1])"
   ]
  },
  {
   "cell_type": "markdown",
   "metadata": {},
   "source": [
    "## Indexing numpy array"
   ]
  },
  {
   "cell_type": "code",
   "execution_count": 38,
   "metadata": {},
   "outputs": [
    {
     "name": "stdout",
     "output_type": "stream",
     "text": [
      "[[ 9 12  4]\n",
      " [20 15 17]\n",
      " [20  0 33]\n",
      " [17  1  2]]\n"
     ]
    }
   ],
   "source": [
    "#Generate random array with integers\n",
    "arr1 = np.random.randint(40,size=(4,3))\n",
    "print(arr1)"
   ]
  },
  {
   "cell_type": "code",
   "execution_count": 39,
   "metadata": {},
   "outputs": [
    {
     "data": {
      "text/plain": [
       "array([[ 9, 12,  4]])"
      ]
     },
     "execution_count": 39,
     "metadata": {},
     "output_type": "execute_result"
    }
   ],
   "source": [
    "#Extract rows\n",
    "n = 1\n",
    "arr1[:n,:]"
   ]
  },
  {
   "cell_type": "code",
   "execution_count": 40,
   "metadata": {},
   "outputs": [
    {
     "data": {
      "text/plain": [
       "array([[ 9],\n",
       "       [20],\n",
       "       [20],\n",
       "       [17]])"
      ]
     },
     "execution_count": 40,
     "metadata": {},
     "output_type": "execute_result"
    }
   ],
   "source": [
    "#Extract columns\n",
    "n=1\n",
    "arr1[:,:n]"
   ]
  },
  {
   "cell_type": "code",
   "execution_count": 41,
   "metadata": {},
   "outputs": [
    {
     "data": {
      "text/plain": [
       "array([[ 9, 12],\n",
       "       [20, 15],\n",
       "       [20,  0]])"
      ]
     },
     "execution_count": 41,
     "metadata": {},
     "output_type": "execute_result"
    }
   ],
   "source": [
    "n = 3\n",
    "m = 2\n",
    "arr1[:n,:m]"
   ]
  },
  {
   "cell_type": "markdown",
   "metadata": {},
   "source": [
    "## Arithmetic operations"
   ]
  },
  {
   "cell_type": "markdown",
   "metadata": {},
   "source": [
    "# Application of what we learnt until now"
   ]
  },
  {
   "cell_type": "code",
   "execution_count": 45,
   "metadata": {},
   "outputs": [],
   "source": [
    "from matplotlib import pyplot as plt\n",
    "import numpy as np"
   ]
  },
  {
   "cell_type": "code",
   "execution_count": 46,
   "metadata": {},
   "outputs": [],
   "source": [
    "#Function to plot vector\n",
    "def draw_vector(start,end):\n",
    "    plt.plot((start[0],end[0]),(start[1],end[1]))\n",
    "    plt.draw()\n",
    "    \n",
    "#Function to plot position\n",
    "def plot_position(position,name):\n",
    "    if name == \"wall-e\":\n",
    "        plt.scatter(position[0],position[1],s=200,marker=(4, 0, 45))\n",
    "    elif name == \"eva\":\n",
    "        plt.scatter(position[0],position[1],s=100,marker='x')\n",
    "    elif name == \"auto\":\n",
    "        plt.scatter(position[0],position[1],s=100,marker='o')\n",
    "    elif name == \"plant\":\n",
    "        plt.scatter(position[0],position[1],s=100,marker='+')\n",
    "        \n",
    "        \n",
    "    plt.draw()"
   ]
  },
  {
   "cell_type": "code",
   "execution_count": 51,
   "metadata": {},
   "outputs": [],
   "source": [
    "#origin\n",
    "origin = np.array([0,0])\n",
    "\n",
    "#initial position of wall\n",
    "# init wall e position with [5,4]\n",
    "init_point = np.array([5,4])\n"
   ]
  },
  {
   "cell_type": "markdown",
   "metadata": {},
   "source": [
    "# Vector addition"
   ]
  },
  {
   "cell_type": "code",
   "execution_count": 52,
   "metadata": {},
   "outputs": [
    {
     "data": {
      "image/png": "[encoded data removed]",
      "text/plain": [
       "<Figure size 720x720 with 1 Axes>"
      ]
     },
     "metadata": {
      "needs_background": "light"
     },
     "output_type": "display_data"
    }
   ],
   "source": [
    "\n",
    "#move the wall e by given vector\n",
    "transform = np.array([3,-2])\n",
    "\n",
    "#YOUR CODE HERE\n",
    "final_position = init_point + transform\n",
    "\n",
    "# Plotting\n",
    "plt.figure(figsize=(10,10))\n",
    "plt.xlim(0,10)\n",
    "plt.ylim(0,10)\n",
    "#add the grid\n",
    "plt.grid()\n",
    "\n",
    "draw_vector(origin,init_point)\n",
    "plot_position(init_point,\"wall-e\")\n",
    "draw_vector(init_point,final_position)\n",
    "plot_position(final_position,\"wall-e\")\n",
    "draw_vector(origin,final_position)\n",
    "plt.show()"
   ]
  },
  {
   "cell_type": "markdown",
   "metadata": {},
   "source": [
    "# Polar to Cartesian coordinate system"
   ]
  },
  {
   "cell_type": "code",
   "execution_count": 58,
   "metadata": {},
   "outputs": [
    {
     "name": "stdout",
     "output_type": "stream",
     "text": [
      "final position  [8. 2.]\n"
     ]
    },
    {
     "data": {
      "image/png": "[encoded data removed]",
      "text/plain": [
       "<Figure size 720x720 with 1 Axes>"
      ]
     },
     "metadata": {
      "needs_background": "light"
     },
     "output_type": "display_data"
    }
   ],
   "source": [
    "\n",
    "#init magnitude and direction\n",
    "l = 3.6\n",
    "theta = -33.7 # in degrees\n",
    "\n",
    "x = np.cos(np.deg2rad(theta)) * l\n",
    "y = np.sin(np.deg2rad(theta)) * l \n",
    "\n",
    "\n",
    "#YOUR CODE HERE\n",
    "translated_position = init_point + np.array([x,y])\n",
    "print(\"final position \",np.round(translated_position,2))\n",
    "# Plotting\n",
    "plt.figure(figsize=(10,10))\n",
    "plt.xlim(0,10)\n",
    "plt.ylim(0,10)\n",
    "#add the grid\n",
    "plt.grid()\n",
    "\n",
    "draw_vector(origin,init_point)\n",
    "plot_position(init_point,\"wall-e\")\n",
    "draw_vector(init_point,final_position)\n",
    "plot_position(final_position,\"wall-e\")\n",
    "draw_vector(origin,final_position)\n",
    "plt.show()"
   ]
  },
  {
   "cell_type": "markdown",
   "metadata": {},
   "source": [
    "# Relative Positioning"
   ]
  },
  {
   "cell_type": "code",
   "execution_count": 62,
   "metadata": {},
   "outputs": [
    {
     "name": "stdout",
     "output_type": "stream",
     "text": [
      "translation  [4. 4.]\n",
      "final position  [12.  6.]\n"
     ]
    },
    {
     "data": {
      "image/png": "[encoded data removed]",
      "text/plain": [
       "<Figure size 720x720 with 1 Axes>"
      ]
     },
     "metadata": {
      "needs_background": "light"
     },
     "output_type": "display_data"
    }
   ],
   "source": [
    "def polar_to_2d_vector(length, angle):\n",
    "    x = np.cos(np.deg2rad(theta)) * l\n",
    "    y = np.sin(np.deg2rad(theta)) * l \n",
    "    return np.array([x,y])\n",
    "\n",
    "#init magnitude and direction\n",
    "l = 5.65\n",
    "theta = 45 # in degrees\n",
    "\n",
    "wall_e_init_position = np.array([8,2])\n",
    "#YOUR CODE HERE\n",
    "eva_translated_position = polar_to_2d_vector(l, theta)\n",
    "\n",
    "eva_final_position = wall_e_init_position + eva_translated_position\n",
    "print(\"translation \",np.round(eva_translated_position,2))\n",
    "print(\"final position \",np.round(eva_final_position,2))\n",
    "\n",
    "# Plotting\n",
    "plt.figure(figsize=(10,10))\n",
    "plt.xlim(0,15)\n",
    "plt.ylim(0,15)\n",
    "#add the grid\n",
    "plt.grid()\n",
    "\n",
    "draw_vector(origin,wall_e_init_position)\n",
    "plot_position(wall_e_init_position,\"wall-e\")\n",
    "draw_vector(wall_e_init_position,eva_final_position)\n",
    "plot_position(eva_final_position,\"eva\")\n",
    "draw_vector(origin,eva_final_position)\n",
    "plt.show()"
   ]
  },
  {
   "cell_type": "markdown",
   "metadata": {},
   "source": [
    "# Scaling"
   ]
  },
  {
   "cell_type": "code",
   "execution_count": 61,
   "metadata": {},
   "outputs": [
    {
     "data": {
      "image/png": "[encoded data removed]",
      "text/plain": [
       "<Figure size 720x720 with 1 Axes>"
      ]
     },
     "metadata": {
      "needs_background": "light"
     },
     "output_type": "display_data"
    }
   ],
   "source": [
    "\n",
    "#init various positions\n",
    "wall_final_position = np.array([8,2])\n",
    "eva_final_position = np.array([12,6])\n",
    "auto_final_position = np.array([11,8])\n",
    "plant_final_position = np.array([4,9])\n",
    "\n",
    "\n",
    "# Plotting\n",
    "plt.figure(figsize=(10,10))\n",
    "plt.xlim(0,15)\n",
    "plt.ylim(0,15)\n",
    "#add the grid\n",
    "plt.grid()\n",
    "\n",
    "draw_vector(origin,wall_final_position)\n",
    "plot_position(wall_final_position,\"wall-e\")\n",
    "draw_vector(origin,eva_final_position)\n",
    "plot_position(eva_final_position,\"eva\")\n",
    "draw_vector(origin,eva_final_position)\n",
    "plot_position(plant_final_position,\"plant\")\n",
    "draw_vector(origin,plant_final_position)\n",
    "plot_position(auto_final_position,\"auto\")\n",
    "draw_vector(origin,auto_final_position)\n",
    "plt.show()"
   ]
  },
  {
   "cell_type": "code",
   "execution_count": 64,
   "metadata": {},
   "outputs": [
    {
     "data": {
      "image/png": "[encoded data removed]",
      "text/plain": [
       "<Figure size 720x720 with 1 Axes>"
      ]
     },
     "metadata": {
      "needs_background": "light"
     },
     "output_type": "display_data"
    }
   ],
   "source": [
    "#scalling\n",
    "scaling_factor = 0.5\n",
    "scaled_wall_final_position = wall_final_position * scaling_factor\n",
    "scaled_eva_final_position = eva_final_position * scaling_factor\n",
    "scaled_auto_final_position = auto_final_position * scaling_factor\n",
    "scaled_plant_final_position = plant_final_position  * scaling_factor\n",
    "\n",
    "# Plotting\n",
    "plt.figure(figsize=(10,10))\n",
    "plt.xlim(0,15)\n",
    "plt.ylim(0,15)\n",
    "#add the grid\n",
    "plt.grid()\n",
    "\n",
    "draw_vector(origin,scaled_wall_final_position)\n",
    "plot_position(scaled_wall_final_position,\"wall-e\")\n",
    "draw_vector(origin,scaled_eva_final_position)\n",
    "plot_position(scaled_eva_final_position,\"eva\")\n",
    "draw_vector(origin,scaled_eva_final_position)\n",
    "plot_position(scaled_plant_final_position,\"plant\")\n",
    "draw_vector(origin,scaled_plant_final_position)\n",
    "plot_position(scaled_auto_final_position,\"auto\")\n",
    "draw_vector(origin,scaled_auto_final_position)\n",
    "plt.show()"
   ]
  },
  {
   "cell_type": "markdown",
   "metadata": {},
   "source": [
    "# Matrix manipulations"
   ]
  },
  {
   "cell_type": "code",
   "execution_count": 70,
   "metadata": {},
   "outputs": [
    {
     "data": {
      "image/png": "[encoded data removed]",
      "text/plain": [
       "<Figure size 720x720 with 1 Axes>"
      ]
     },
     "metadata": {
      "needs_background": "light"
     },
     "output_type": "display_data"
    }
   ],
   "source": [
    "wall_e_init_position = np.array([0,0])\n",
    "eva_init_position = np.array([5,4])\n",
    "\n",
    "#basis vectors\n",
    "init_base_x = np.array([1,0])\n",
    "init_base_y = np.array([0,1])\n",
    "\n",
    "# Plotting\n",
    "plt.figure(figsize=(10,10))\n",
    "plt.xlim(-10,10)\n",
    "plt.ylim(-10,10)\n",
    "#add the grid\n",
    "plt.grid()\n",
    "plt.plot([-10,10],[0,0],color='black',alpha=0.5)\n",
    "plt.plot([0,0],[-10,10],color='black',alpha=0.5)\n",
    "plot_position(wall_e_init_position,\"wall-e\")\n",
    "draw_vector(wall_e_init_position,eva_init_position)\n",
    "plot_position(eva_init_position,\"eva\")\n",
    "plt.show()"
   ]
  },
  {
   "cell_type": "code",
   "execution_count": 86,
   "metadata": {},
   "outputs": [
    {
     "name": "stdout",
     "output_type": "stream",
     "text": [
      "data: [[ 0.70710678  0.70710678]\n",
      " [-0.70710678  0.70710678]]\n",
      "array type: <class 'numpy.ndarray'>\n",
      "data type: <class 'numpy.float64'>\n",
      "shape: (2, 2)\n",
      "--------------------\n"
     ]
    },
    {
     "data": {
      "image/png": "[encoded data removed]",
      "text/plain": [
       "<Figure size 720x720 with 1 Axes>"
      ]
     },
     "metadata": {
      "needs_background": "light"
     },
     "output_type": "display_data"
    }
   ],
   "source": [
    "#rotation angle\n",
    "theta = -45 #in degrees\n",
    "t_rad = np.deg2rad(theta)\n",
    "l = 1 #unit length of basis vector\n",
    "rotated_base_x = np.array([l* np.cos(t_rad), l* np.sin(t_rad)])\n",
    "rotated_base_y = np.array([-l* np.sin(t_rad), l* np.cos(t_rad)])\n",
    "\n",
    "rotation_matrix = np.vstack((rotated_base_x, rotated_base_y)).T\n",
    "print_array_2d(rotation_matrix)\n",
    "eva_relative_position = rotation_matrix.dot(eva_init_position)\n",
    "\n",
    "plt.figure(figsize=(10,10))\n",
    "plt.xlim(-10,10)\n",
    "plt.ylim(-10,10)\n",
    "plt.grid()\n",
    "plt.scatter(0,0,s=200,marker=(4, 0, 90))\n",
    "plt.scatter(eva_init_position[0],eva_init_position[1],marker='x')\n",
    "plt.plot([-10,10],[0,0],color='black',alpha=0.5)\n",
    "plt.plot([0,0],[-10,10],color='black',alpha=0.5)\n",
    "plt.plot([-10,10],[-10,10],color='red',alpha=0.5)\n",
    "plt.plot([-10,10],[10,-10],color='red',alpha=0.5)\n",
    "\n",
    "draw_vector(origin,eva_init_position)"
   ]
  },
  {
   "cell_type": "code",
   "execution_count": null,
   "metadata": {},
   "outputs": [],
   "source": [
    "# Inverse matrix\n",
    "inverse_matrix = \n",
    "\n",
    "eva_init_position = \n",
    "\n",
    "print('Initial Position of Eva: ', eva_init_position)"
   ]
  },
  {
   "cell_type": "code",
   "execution_count": null,
   "metadata": {},
   "outputs": [],
   "source": [
    "# Composition\n",
    "final_matrix = \n",
    "\n",
    "eva_relative_position = \n",
    "\n",
    "print('Relative Position of Eva: ', eva_relative_position)"
   ]
  },
  {
   "cell_type": "markdown",
   "metadata": {},
   "source": [
    "# System of Equations"
   ]
  },
  {
   "cell_type": "code",
   "execution_count": null,
   "metadata": {},
   "outputs": [],
   "source": [
    "# Equation 1: 3x + 2y = 4\n",
    "# Equation 2: x - 4y = -1\n",
    "# Start Code Here\n",
    "A = \n",
    "B = \n",
    "X = \n",
    "print('Solution: ', X)\n",
    "# End Code Here\n",
    "plt.figure(figsize=(10,10))\n",
    "x1 = np.arange(-7, 7, .5)\n",
    "y1 = (4 - 3 * x1) / 2\n",
    "y2 = (1 + x1) / 4\n",
    "plt.grid()\n",
    "plt.xlim((-6, 6))\n",
    "plt.ylim((-6, 6))\n",
    "plt.plot(x1, y1, color = 'r')\n",
    "plt.plot(x1, y2, color = 'b')"
   ]
  },
  {
   "cell_type": "code",
   "execution_count": null,
   "metadata": {},
   "outputs": [],
   "source": [
    "# Determinant\n",
    "A = np.array([[1, 0], [0, 1]])\n",
    "B = np.array([[1, 1], [2, 2]])\n",
    "C = np.array([[0, 0], [0, 0]])\n",
    "\n",
    "determinant = \n",
    "\n",
    "print('Determinant: ', determinant)"
   ]
  },
  {
   "cell_type": "code",
   "execution_count": null,
   "metadata": {},
   "outputs": [],
   "source": [
    "# Rank of matrix\n",
    "rank = \n",
    "\n",
    "print('Rank: ',rank)"
   ]
  }
 ],
 "metadata": {
  "kernelspec": {
   "display_name": "Python 3",
   "language": "python",
   "name": "python3"
  },
  "language_info": {
   "codemirror_mode": {
    "name": "ipython",
    "version": 3
   },
   "file_extension": ".py",
   "mimetype": "text/x-python",
   "name": "python",
   "nbconvert_exporter": "python",
   "pygments_lexer": "ipython3",
   "version": "3.8.5"
  }
 },
 "nbformat": 4,
 "nbformat_minor": 4
}
