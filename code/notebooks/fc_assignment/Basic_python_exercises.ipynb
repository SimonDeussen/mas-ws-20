{
 "cells": [
  {
   "cell_type": "markdown",
   "metadata": {},
   "source": [
    "## Python Exercises <br>\n",
    "The goal of this assignment is to get you familiarized with basic python functionalities which were discussed in the class. \n",
    "You will have to apply the concepts taught in class today and feel free to go through the class notebook or the other sources mentioned in the notebook to gain more clarity of the concepts. <br>\n",
    "You will have to submit a pdf copy of the notebook in slack and the submission deadline will be announced to you in class. To submit, either print the page in pdf format or you can also use the 'download as' option in the 'file' menu(you may face some errors). <br>\n",
    "\n",
    "__Practise makes a man perfect!!!__ So lets get started with the exercise problems. <br>\n"
   ]
  },
  {
   "cell_type": "markdown",
   "metadata": {},
   "source": [
    "Write a Python program to get the Python version you are using."
   ]
  },
  {
   "cell_type": "code",
   "execution_count": 40,
   "metadata": {},
   "outputs": [],
   "source": [
    "import sys\n",
    "import math\n",
    "from operator import itemgetter\n",
    "\n",
    "from typing import List, Any, Dict"
   ]
  },
  {
   "cell_type": "code",
   "execution_count": 4,
   "metadata": {},
   "outputs": [
    {
     "name": "stdout",
     "output_type": "stream",
     "text": [
      "Python version: 3.8.5 (default, Sep  4 2020, 02:22:02) \n",
      "[Clang 10.0.0 ]\n"
     ]
    }
   ],
   "source": [
    "print(f\"Python version: {sys.version}\")"
   ]
  },
  {
   "cell_type": "markdown",
   "metadata": {},
   "source": [
    "Write a Python program which accepts the radius of a circle from the user and compute the area. (Use math library)"
   ]
  },
  {
   "cell_type": "code",
   "execution_count": 20,
   "metadata": {},
   "outputs": [
    {
     "name": "stdout",
     "output_type": "stream",
     "text": [
      "Radius 1: 3.141592653589793\n",
      "Radius 5: 78.53981633974483\n",
      "Radius 33: 3421.194399759285\n"
     ]
    }
   ],
   "source": [
    "def get_circle_area(radius: float) -> float:\n",
    "    return math.pi * math.pow(radius, 2)\n",
    "\n",
    "print(f\"Radius 1: {get_circle_area(1)}\")\n",
    "print(f\"Radius 5: {get_circle_area(5)}\")\n",
    "print(f\"Radius 33: {get_circle_area(33)}\")"
   ]
  },
  {
   "cell_type": "markdown",
   "metadata": {},
   "source": [
    "Write a Python program to concatenate all elements in a list into a string and return it."
   ]
  },
  {
   "cell_type": "code",
   "execution_count": 22,
   "metadata": {},
   "outputs": [
    {
     "name": "stdout",
     "output_type": "stream",
     "text": [
      "hello world\n"
     ]
    }
   ],
   "source": [
    "def concat_list(input_list: List[Any]) -> str:\n",
    "    return \"\".join(input_list)\n",
    "\n",
    "list_of_elements = [\"h\", \"e\", \"l\", \"l\", \"o\", \" world\"]\n",
    "\n",
    "print(concat_list(list_of_elements))"
   ]
  },
  {
   "cell_type": "markdown",
   "metadata": {},
   "source": [
    "Write a Python program to calculate the area of a trapezoid. <br>\n",
    "Test Data <br>\n",
    "Height : 5<br>\n",
    "Base, first value : 5<br>\n",
    "Base, second value : 6<br>\n",
    "Expected Output: Area is : 27.5<br>"
   ]
  },
  {
   "cell_type": "code",
   "execution_count": 24,
   "metadata": {},
   "outputs": [],
   "source": [
    "def area_trapezoid(base_one: float, base_two: float, height: float) -> float:\n",
    "    return (base_one + base_two) / 2 * height\n",
    "\n",
    "assert area_trapezoid(5, 6, 5) == 27.5"
   ]
  },
  {
   "cell_type": "markdown",
   "metadata": {},
   "source": [
    "Write a Python program to remove and print every third number from a list of 50 natural numbers until the list cannot be reduced any further."
   ]
  },
  {
   "cell_type": "code",
   "execution_count": 39,
   "metadata": {
    "scrolled": true
   },
   "outputs": [
    {
     "name": "stdout",
     "output_type": "stream",
     "text": [
      "0\n",
      "3\n",
      "6\n",
      "9\n",
      "12\n",
      "15\n",
      "18\n",
      "21\n",
      "24\n",
      "27\n",
      "30\n",
      "33\n",
      "36\n",
      "39\n",
      "42\n",
      "45\n",
      "48\n",
      "\n",
      "1\n",
      "5\n",
      "10\n",
      "14\n",
      "19\n",
      "23\n",
      "28\n",
      "32\n",
      "37\n",
      "41\n",
      "46\n",
      "\n",
      "2\n",
      "8\n",
      "16\n",
      "22\n",
      "29\n",
      "35\n",
      "43\n",
      "49\n",
      "\n",
      "4\n",
      "13\n",
      "25\n",
      "34\n",
      "44\n",
      "\n",
      "7\n",
      "20\n",
      "38\n",
      "\n",
      "11\n",
      "31\n",
      "\n",
      "17\n",
      "47\n",
      "\n"
     ]
    },
    {
     "data": {
      "text/plain": [
       "[26, 40]"
      ]
     },
     "execution_count": 39,
     "metadata": {},
     "output_type": "execute_result"
    }
   ],
   "source": [
    "def reducer(numbers: List[int]) -> None:\n",
    "    if len(numbers) < 3:\n",
    "        return numbers\n",
    "    else:\n",
    "        return_list = []\n",
    "        \n",
    "        for i in range(len(numbers)):\n",
    "            if i % 3 != 0:\n",
    "                return_list.append(numbers[i])\n",
    "            else:\n",
    "                print(numbers[i])\n",
    "            \n",
    "        print()\n",
    "        return reducer(return_list)\n",
    "    \n",
    "reducer([n for n in range(50)])\n",
    "            "
   ]
  },
  {
   "cell_type": "markdown",
   "metadata": {},
   "source": [
    "Write a Python program to print the following text, convert the string to a list and print all the words and their frequencies <br>\n",
    "__\"Probability is the measure of the likelihood that an event will occur. Probability is quantified as a number between 0 and 1, where, loosely speaking, 0 indicates impossibility and 1 indicates certainty. The higher the probability of an event, the more likely it is that the event will occur.\"__"
   ]
  },
  {
   "cell_type": "code",
   "execution_count": 44,
   "metadata": {},
   "outputs": [
    {
     "data": {
      "text/plain": [
       "{'probability': 3,\n",
       " 'is': 3,\n",
       " 'the': 6,\n",
       " 'measure': 1,\n",
       " 'of': 2,\n",
       " 'likelihood': 1,\n",
       " 'that': 2,\n",
       " 'an': 2,\n",
       " 'event': 2,\n",
       " 'will': 2,\n",
       " 'occur.': 2,\n",
       " 'quantified': 1,\n",
       " 'as': 1,\n",
       " 'a': 1,\n",
       " 'number': 1,\n",
       " 'between': 1,\n",
       " '0': 2,\n",
       " 'and': 2,\n",
       " '1,': 1,\n",
       " 'where,': 1,\n",
       " 'loosely': 1,\n",
       " 'speaking,': 1,\n",
       " 'indicates': 2,\n",
       " 'impossibility': 1,\n",
       " '1': 1,\n",
       " 'certainty.': 1,\n",
       " 'higher': 1,\n",
       " 'event,': 1,\n",
       " 'more': 1,\n",
       " 'likely': 1,\n",
       " 'it': 1}"
      ]
     },
     "execution_count": 44,
     "metadata": {},
     "output_type": "execute_result"
    }
   ],
   "source": [
    "text = \"Probability is the measure of the likelihood that an event will occur. Probability is quantified as a number between 0 and 1, where, loosely speaking, 0 indicates impossibility and 1 indicates certainty. The higher the probability of an event, the more likely it is that the event will occur.\"\n",
    "\n",
    "def get_word_frequencies(text: str, *, seperator: str = \" \") -> Dict[str, int]:\n",
    "    \n",
    "    splitted = text.split(seperator)\n",
    "    words = {}\n",
    "    \n",
    "    for word in splitted:\n",
    "        l_word = word.lower()\n",
    "        \n",
    "        if l_word not in words:\n",
    "            words[l_word] = 1\n",
    "        else:\n",
    "            words[l_word] += 1\n",
    "            \n",
    "    return words\n",
    "\n",
    "get_word_frequencies(text)"
   ]
  },
  {
   "cell_type": "markdown",
   "metadata": {},
   "source": [
    "Write a Python program to reverse the digits of a given number and add it to the original, If the sum is not a palindrome repeat this procedure. <br>\n",
    "Note: A palindrome is a word, number, or other sequence of characters which reads the same backward as forward, such as madam or racecar."
   ]
  },
  {
   "cell_type": "code",
   "execution_count": 75,
   "metadata": {},
   "outputs": [
    {
     "data": {
      "text/plain": [
       "5952595"
      ]
     },
     "execution_count": 75,
     "metadata": {},
     "output_type": "execute_result"
    }
   ],
   "source": [
    "def is_palindrom(number: int) -> bool:\n",
    "    number_str = str(number)\n",
    "    return number_str == number_str[::-1]\n",
    "\n",
    "def palindrom_builder(number: int) -> int:\n",
    "    assert number <= sys.maxsize / 2,  \"number got too big - i dont want this to take tooo long\"\n",
    "    \n",
    "    if is_palindrom(number):\n",
    "        return number\n",
    "    else:\n",
    "        next_number = int(number) + int(str(number)[::-1])\n",
    "        return palindrom_builder(next_number)\n",
    "\n",
    "    \n",
    "    \n",
    "\n",
    "palindrom_builder(62761) "
   ]
  },
  {
   "cell_type": "markdown",
   "metadata": {},
   "source": [
    "Write a Python program to generate a list of squares of numbers between 1 and 20 (both nos included) and print ONLY the first and last 5 elements."
   ]
  },
  {
   "cell_type": "code",
   "execution_count": 77,
   "metadata": {},
   "outputs": [
    {
     "name": "stdout",
     "output_type": "stream",
     "text": [
      "[36.0, 49.0, 64.0, 81.0, 100.0, 121.0, 144.0, 169.0, 196.0, 225.0]\n"
     ]
    }
   ],
   "source": [
    "numbers = [n for n in range(1, 21)]\n",
    "squared = [math.pow(n, 2) for n in numbers]\n",
    "print(squared[5:-5])"
   ]
  },
  {
   "cell_type": "markdown",
   "metadata": {},
   "source": [
    "Write a Python program to split the following sentence based on white space and then extract the first letter of each split string. <br>\n",
    "__\"Jack of all trades but master of none\"__"
   ]
  },
  {
   "cell_type": "code",
   "execution_count": 78,
   "metadata": {},
   "outputs": [
    {
     "name": "stdout",
     "output_type": "stream",
     "text": [
      "['J', 'o', 'a', 't', 'b', 'm', 'o', 'n']\n"
     ]
    }
   ],
   "source": [
    "text = \"Jack of all trades but master of none\"\n",
    "print([w[0] for w in text.split(\" \")])"
   ]
  },
  {
   "cell_type": "markdown",
   "metadata": {},
   "source": [
    "Write a Python program to remove the duplicate elements in the list but preserve the order. <br>\n",
    "Eg: [2,3,5,4,2,3,8,4] should give an output [2,3,5,4,8]"
   ]
  },
  {
   "cell_type": "code",
   "execution_count": 81,
   "metadata": {},
   "outputs": [
    {
     "name": "stdout",
     "output_type": "stream",
     "text": [
      "[2, 3, 5, 4, 8]\n"
     ]
    }
   ],
   "source": [
    "numbers = [2,3,5,4,2,3,8,4]\n",
    "\n",
    "def remove_duplicates(numbers: List[int]) -> List[int]:\n",
    "    result = []\n",
    "    for n in numbers:\n",
    "        if n not in result:\n",
    "            result.append(n)\n",
    "    return result\n",
    "\n",
    "assert remove_duplicates(numbers) == [2,3,5,4,8]"
   ]
  },
  {
   "cell_type": "markdown",
   "metadata": {},
   "source": [
    "Write a Python program to solve the Fibonacci sequence using recursion. "
   ]
  },
  {
   "cell_type": "code",
   "execution_count": 106,
   "metadata": {},
   "outputs": [
    {
     "name": "stdout",
     "output_type": "stream",
     "text": [
      "0\n",
      "1\n",
      "1\n",
      "2\n",
      "3\n",
      "5\n",
      "8\n",
      "13\n",
      "21\n",
      "34\n"
     ]
    }
   ],
   "source": [
    "def fibonacci(n: int) -> int:\n",
    "    if n <= 1:\n",
    "        return n\n",
    "    else:\n",
    "        return(fibonacci(n-1) + fibonacci(n-2))\n",
    "\n",
    "for i in range(10):\n",
    "    print(fibonacci(i))"
   ]
  },
  {
   "cell_type": "markdown",
   "metadata": {},
   "source": [
    "Given an array of integers of size n, calculate the maximum sum of k consecutive elements in the array.\n",
    "* Input: [100, 200, 300, 400]; k = 2\n",
    "* Output: 700"
   ]
  },
  {
   "cell_type": "code",
   "execution_count": 115,
   "metadata": {},
   "outputs": [
    {
     "data": {
      "text/plain": [
       "700"
      ]
     },
     "execution_count": 115,
     "metadata": {},
     "output_type": "execute_result"
    }
   ],
   "source": [
    "numbers = [100, 200, 300, 400]\n",
    "slice_range = 2\n",
    "\n",
    "def max_sum_consecutive_elements(numbers: List[int], *, slice_range: int = 2) -> int:\n",
    "    slices = []\n",
    "    \n",
    "    for i in range(len(numbers)-(slice_range-1)):\n",
    "        slice_ = [] \n",
    "        for j in range(slice_range):\n",
    "            slice_.append(numbers[i+j])\n",
    "        slices.append(sum(slice_))\n",
    "        \n",
    "    return max(slices)\n",
    "    \n",
    "max_sum_consecutive_elements(numbers)"
   ]
  },
  {
   "cell_type": "markdown",
   "metadata": {},
   "source": [
    "Write a Python program to print a dictionary with keys are the names of the numbers between one and five (both included) and values are the cubes of the numbers. <br>\n",
    "Note: You should use a list to create the keys and create the dictionary using list comprehension."
   ]
  },
  {
   "cell_type": "code",
   "execution_count": 119,
   "metadata": {},
   "outputs": [
    {
     "name": "stdout",
     "output_type": "stream",
     "text": [
      "{1: 1, 2: 8, 3: 27, 4: 64, 5: 125}\n"
     ]
    }
   ],
   "source": [
    "numbers = [n for n in range(1, 6)]\n",
    "dictionary = {n: int(math.pow(n, 3)) for n in numbers}\n",
    "\n",
    "print(dictionary)"
   ]
  },
  {
   "cell_type": "markdown",
   "metadata": {},
   "source": [
    "Write a program which accepts a sequence of comma separated 4 digit binary numbers as its input and then check whether they are divisible by 5 or not. The numbers that are divisible by 5 are to be printed in a comma separated sequence. <br>\n",
    "Example:<br>\n",
    "0110,1001,0100,1010<br>\n",
    "Then the output should be:<br>\n",
    "1010\n",
    "Hint: Look up how to convert from integer to binary/hex/oct in python"
   ]
  },
  {
   "cell_type": "code",
   "execution_count": 131,
   "metadata": {},
   "outputs": [
    {
     "name": "stdout",
     "output_type": "stream",
     "text": [
      "1010\n"
     ]
    }
   ],
   "source": [
    "numbers = ['0110','1001', '0100', '1010']\n",
    "print(\",\".join([n for n in numbers if int(\"0b\"+n, 2) % 5 == 0]))"
   ]
  },
  {
   "cell_type": "markdown",
   "metadata": {},
   "source": [
    "Write a python program to check whether a given number is an Armstrong number using a function. <br>\n",
    "Note : An Armstrong number is one whose sum of cubes of digits is equal to the number itself. Eg: 371"
   ]
  },
  {
   "cell_type": "code",
   "execution_count": 134,
   "metadata": {},
   "outputs": [],
   "source": [
    "def is_armstrong(number: int) -> bool:\n",
    "    number_str = str(number)\n",
    "    sum_ = 0\n",
    "    \n",
    "    for d in number_str:\n",
    "        digit = int(d)\n",
    "        sum_ += int(math.pow(digit, 3))\n",
    "        \n",
    "    return number == sum_\n",
    "\n",
    "assert is_armstrong(371)"
   ]
  },
  {
   "cell_type": "markdown",
   "metadata": {},
   "source": [
    "Flatten a nested sequence into a single list of values. Note: the logic should work for any number of nested\n",
    "sequences.\n",
    "* Input: [1, 2, [3, 4, [5, 6], 7], 8]\n",
    "* Output: [1, 2, 3, 4, 5, 6, 7, 8]"
   ]
  },
  {
   "cell_type": "code",
   "execution_count": 139,
   "metadata": {},
   "outputs": [],
   "source": [
    "numbers = [1, 2, [3, 4, [5, 6], 7], 8]\n",
    "\n",
    "def flatten_list(list_: List[int]) -> List[int]:\n",
    "    str_list = list_.__repr__()\n",
    "    return str_list.replace(\"[\", \"\").replace(\"]\", \"\").split(\", \") # lol\n",
    "    \n",
    "    \n",
    "assert flatten_list(numbers) == ['1', '2', '3', '4', '5', '6', '7', '8']"
   ]
  },
  {
   "cell_type": "markdown",
   "metadata": {},
   "source": [
    "Write a python program to find if a number is Automorphic or not. <br>\n",
    "Note: A number is Automorphic if and only if its square ends with the same digit as itself. Eg: The number 25 has its square 625 ending with the same last digit."
   ]
  },
  {
   "cell_type": "code",
   "execution_count": 143,
   "metadata": {},
   "outputs": [],
   "source": [
    "def is_automorphic(number: int) -> bool:\n",
    "    number_str = repr(number)\n",
    "    square_str = repr(number*number)\n",
    "    return number_str[-1] == square_str[-1]\n",
    "\n",
    "assert is_automorphic(25)\n",
    "assert not is_automorphic(9)"
   ]
  },
  {
   "cell_type": "markdown",
   "metadata": {},
   "source": [
    "Write a program to sort the dictionary based on value in reverse order.\n",
    "data = {\"maths\":50, \"physics\":90, \"chemistry:\"80, \"english\":70, \"history\":85}\n",
    "Hint: Use itemgetter"
   ]
  },
  {
   "cell_type": "code",
   "execution_count": 153,
   "metadata": {},
   "outputs": [
    {
     "name": "stdout",
     "output_type": "stream",
     "text": [
      "{'physics': 90, 'history': 85, 'chemistry': 80, 'english': 70, 'maths': 50}\n"
     ]
    }
   ],
   "source": [
    "\n",
    "data = {\"maths\":50, \"physics\":90, \"chemistry\":80, \"english\":70, \"history\":85}\n",
    "\n",
    "def sort_by_value(data: Dict[str, int]) -> Dict[str, int]:\n",
    "    data_as_list = [(k,v) for k,v in data.items()]\n",
    "    return {k:v for k,v in sorted(data_as_list, key=itemgetter(1), reverse=True)}\n",
    "    \n",
    "print(sort_by_value(data))"
   ]
  },
  {
   "cell_type": "markdown",
   "metadata": {},
   "source": [
    "Implement a switch case in python to display the following chocolate manufacturing company names when their corresponding chocolates are selected based on their capitals.\n",
    "kitkat - nestle <br>\n",
    "dairymilk - cadbury <br>\n",
    "kisses - hershley <br>\n",
    "raffaello - ferroro <br>\n",
    "kinderjoy - kinder <br>\n",
    "Hint : Switch case in python are implemented using dictionaries"
   ]
  },
  {
   "cell_type": "code",
   "execution_count": 156,
   "metadata": {},
   "outputs": [
    {
     "name": "stdout",
     "output_type": "stream",
     "text": [
      "kitkat is from nestle\n",
      "dairymilk is from cadbury\n",
      "kisses is from hershley\n",
      "raffaello is from ferroro\n",
      "kinderjoy is from kinder\n"
     ]
    }
   ],
   "source": [
    "chocos = [\"kitkat\", \"dairymilk\", \"kisses\", \"raffaello\", \"kinderjoy\"]\n",
    "\n",
    "def get_name(choco: str) -> str:\n",
    "    brands = {\n",
    "        \"kitkat\": \"nestle\",\n",
    "        \"dairymilk\": \"cadbury\",\n",
    "        \"kisses\": \"hershley\",\n",
    "        \"raffaello\": \"ferroro\",\n",
    "        \"kinderjoy\": \"kinder\",\n",
    "    }\n",
    "    return brands[choco]\n",
    "\n",
    "for choco in chocos:\n",
    "    print(f\"{choco} is from {get_name(choco)}\")"
   ]
  },
  {
   "cell_type": "markdown",
   "metadata": {},
   "source": [
    "Create a matrix $A = \\begin{bmatrix}1 & 2 & 3 \\\\4 & 5 & 6 \\end{bmatrix}$ and find its transpose using <br>\n",
    "1. List comprehension\n",
    "2. Zip"
   ]
  },
  {
   "cell_type": "code",
   "execution_count": 180,
   "metadata": {},
   "outputs": [],
   "source": [
    "matrix_a = [[1,2,3], [4,5,6]]\n",
    "\n",
    "def transpose_list_comp(matrix: List[List[int]]) -> List[List[int]]:\n",
    "    x_dim = len(matrix)\n",
    "    y_dim = len(matrix[0])\n",
    "    result = [[matrix[x][y] for x in range(x_dim)] for y in range(y_dim)]\n",
    "    return result\n",
    "    \n",
    "    \n",
    "assert transpose_list_comp(matrix_a) == [[1, 4], [2, 5], [3, 6]]\n",
    "\n",
    "# with zip:\n",
    "\n",
    "assert list(map(list, zip(*matrix_a))) == [[1, 4], [2, 5], [3, 6]]"
   ]
  },
  {
   "cell_type": "markdown",
   "metadata": {},
   "source": [
    "Write a program to find the largest N items in a list?\n",
    "* Input: [1, 8, 2, 23, 7, -4, 18, 23, 42, 37, 2] and 3 (N)\n",
    "* Output: [42, 37, 23]"
   ]
  },
  {
   "cell_type": "code",
   "execution_count": 159,
   "metadata": {},
   "outputs": [],
   "source": [
    "numbers =  [1, 8, 2, 23, 7, -4, 18, 23, 42, 37, 2] \n",
    "\n",
    "def get_max_n(numbers: List[int], *, n: int = 3) -> List[int]:\n",
    "    numbers = sorted(numbers, reverse=True)\n",
    "    return numbers[:n]\n",
    "\n",
    "assert get_max_n(numbers) == [42, 37, 23]"
   ]
  },
  {
   "cell_type": "markdown",
   "metadata": {},
   "source": [
    "Write a sigmoid function which takes a matrix (x) as input and outputs a matrix. The formula for sigmoid\n",
    "function is $\\frac{1}{1+e^{-x}}$<br>\n",
    "$X = \\begin{bmatrix}10 & 20 & 30 \\\\4 & 5 & 6 \\end{bmatrix}$ <br>\n",
    "Note: Please DO NOT use numpy."
   ]
  },
  {
   "cell_type": "code",
   "execution_count": 183,
   "metadata": {},
   "outputs": [
    {
     "data": {
      "text/plain": [
       "[[0.9999546021312976, 0.9999999979388463, 0.9999999999999065],\n",
       " [0.9820137900379085, 0.9933071490757153, 0.9975273768433653]]"
      ]
     },
     "execution_count": 183,
     "metadata": {},
     "output_type": "execute_result"
    }
   ],
   "source": [
    "matrix_x = [[10, 20, 30], [4, 5, 6]]\n",
    "\n",
    "def matrix_sig(matrix: List[List[int]]) -> List[List[float]]:\n",
    "    for x in range(len(matrix)):\n",
    "        for y in range(len(matrix[0])):        \n",
    "            matrix[x][y] = 1.0 / (1 + math.pow(math.e, -1 * matrix[x][y]))\n",
    "            \n",
    "    return matrix\n",
    "\n",
    "matrix_sig(matrix_x)"
   ]
  },
  {
   "cell_type": "markdown",
   "metadata": {},
   "source": [
    "Simulate a fast-food ordering scenario by defining four classes <br>\n",
    "* Lunch: A container and controller class\n",
    "* Customer: The actor who buys food\n",
    "* Employee: The actor from whom a customer orders\n",
    "* Food: What the customer buys <br> <br>\n",
    "The order simulation should work as follows<br>\n",
    "\n",
    "1.The Lunch class’s constructor should make and embed an instance of Customer and an instance of\n",
    "Employee, and it should export a method called order. When called, this order method should ask the\n",
    "Customer to place an order by calling its place_order method. The Customer’s place_order method\n",
    "should in turn ask the Employee object for a new Food object by calling Employee’s take_order method. <br>\n",
    "2.Food objects should store a food name string (e.g., “dosa”), passed down from Lunch.order, to\n",
    "Customer.place_order, to Employee.take_order, and finally to Food’s constructor. The top-level Lunch\n",
    "class should also export a method called result, which asks the customer to print the name of the food\n",
    "it received from the Employee via the order (this can be used to test your simulation)."
   ]
  },
  {
   "cell_type": "code",
   "execution_count": 194,
   "metadata": {},
   "outputs": [
    {
     "name": "stdout",
     "output_type": "stream",
     "text": [
      "[L] beginning Lunch...\n",
      "[C] placing order...\n",
      "[E] taking order...\n",
      "[F] Food is 'Dosa'\n",
      "[L] order completed!\n"
     ]
    },
    {
     "data": {
      "text/plain": [
       "Food(name='Dosa')"
      ]
     },
     "execution_count": 194,
     "metadata": {},
     "output_type": "execute_result"
    }
   ],
   "source": [
    "class Food:\n",
    "    def __init__(self, name: str):\n",
    "        self.name = name\n",
    "        print(f\"[F] Food is '{name}'\")\n",
    "\n",
    "    def __repr__(self) -> str:\n",
    "        return f\"Food(name='{self.name}')\"\n",
    "    \n",
    "class Customer:\n",
    "    def __init__(self):\n",
    "        pass\n",
    "    \n",
    "    def place_order(self, employee):\n",
    "        print(\"[C] placing order...\")\n",
    "        return employee.take_order()\n",
    "\n",
    "    \n",
    "class Employee:\n",
    "    def __init__(self):\n",
    "        pass\n",
    "    \n",
    "    def take_order(self):\n",
    "        print(\"[E] taking order...\")\n",
    "        return Food(\"Dosa\")\n",
    "    \n",
    "    def __repr__(self) -> str:\n",
    "        return \"Employee()\"\n",
    "\n",
    "\n",
    "class Lunch:\n",
    "    def __init__(self):\n",
    "        self.customer = Customer()\n",
    "        self.employee = Employee()\n",
    "        \n",
    "        \n",
    "    def order(self):\n",
    "        print(\"[L] beginning Lunch...\")\n",
    "        food = self.customer.place_order(self.employee)\n",
    "        print(\"[L] order completed!\")\n",
    "        return food\n",
    "    \n",
    "    def result(self):\n",
    "        return self.order()\n",
    "    \n",
    "lunch = Lunch()\n",
    "lunch.result()"
   ]
  }
 ],
 "metadata": {
  "kernelspec": {
   "display_name": "Python 3",
   "language": "python",
   "name": "python3"
  },
  "language_info": {
   "codemirror_mode": {
    "name": "ipython",
    "version": 3
   },
   "file_extension": ".py",
   "mimetype": "text/x-python",
   "name": "python",
   "nbconvert_exporter": "python",
   "pygments_lexer": "ipython3",
   "version": "3.8.5"
  }
 },
 "nbformat": 4,
 "nbformat_minor": 2
}
