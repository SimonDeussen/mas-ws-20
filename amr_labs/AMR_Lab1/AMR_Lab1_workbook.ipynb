{
 "cells": [
  {
   "cell_type": "markdown",
   "metadata": {},
   "source": [
    "# Sensor data and models\n",
    "Full Name:  \n",
    "Mr. #:"
   ]
  },
  {
   "cell_type": "markdown",
   "metadata": {},
   "source": [
    "### Import all the required libraries"
   ]
  },
  {
   "cell_type": "code",
   "execution_count": null,
   "metadata": {},
   "outputs": [],
   "source": [
    "import pandas as pd\n",
    "import numpy as np\n",
    "import matplotlib.pyplot as plt"
   ]
  },
  {
   "cell_type": "markdown",
   "metadata": {},
   "source": [
    "## Exercise 1: Median filter\n",
    "Implement a median filter of size k on Laser scan data found in the data/ directory. The scan contains 181 data points representing a 180 degree scan with a LIDAR sensor. The value of k should be variable and specifiable."
   ]
  },
  {
   "cell_type": "code",
   "execution_count": null,
   "metadata": {},
   "outputs": [],
   "source": []
  },
  {
   "cell_type": "markdown",
   "metadata": {},
   "source": [
    "## Exercise 2: Ray sensor model\n",
    "The goal of this exercise is to generate the probability density function for a single measurement of a LIDAR sensor.\n",
    "\n",
    "### Part A:\n",
    "Using the supplied [datasheet](data/63-9378_Rev-F_Ultra-Puck_Datasheet_Web.pdf) in the data folder, and other given parameters and ground truth plot the probability density function for the 4 cases seperately. (i.e. plot the PDF for: correct range with measurement noise, unexpected objects, failures and random measurements."
   ]
  },
  {
   "cell_type": "code",
   "execution_count": null,
   "metadata": {},
   "outputs": [],
   "source": []
  },
  {
   "cell_type": "markdown",
   "metadata": {},
   "source": [
    "### Correct range with measurement error:"
   ]
  },
  {
   "cell_type": "code",
   "execution_count": null,
   "metadata": {},
   "outputs": [],
   "source": []
  },
  {
   "cell_type": "markdown",
   "metadata": {},
   "source": [
    "### Unexpected objects:"
   ]
  },
  {
   "cell_type": "code",
   "execution_count": null,
   "metadata": {},
   "outputs": [],
   "source": []
  },
  {
   "cell_type": "markdown",
   "metadata": {},
   "source": [
    "### Failures:"
   ]
  },
  {
   "cell_type": "code",
   "execution_count": null,
   "metadata": {},
   "outputs": [],
   "source": []
  },
  {
   "cell_type": "markdown",
   "metadata": {},
   "source": [
    "### Random measurements:"
   ]
  },
  {
   "cell_type": "code",
   "execution_count": null,
   "metadata": {},
   "outputs": [],
   "source": []
  },
  {
   "cell_type": "markdown",
   "metadata": {},
   "source": [
    "### Part B:\n",
    "Combine all four of these distributions and plot the results."
   ]
  },
  {
   "cell_type": "code",
   "execution_count": null,
   "metadata": {},
   "outputs": [],
   "source": []
  },
  {
   "cell_type": "markdown",
   "metadata": {},
   "source": [
    "## Exercise 3: Sensor data rates\n",
    "When building a robotic sensor system it is important to consider the amount of data that you will be handling. Large amounts of data generally give the robot more ways to navigate, but this comes at a cost, not only to the processing time, but also update rates or the cost of the infrastructure, faster communications typically cost more money, and power.\n",
    "\n",
    "### Part A: Scan rate\n",
    "The same lidar system used in the previous question is to be placed on a robot that operates around a house. This robot uses a Raspberry Pi 4 as the top level controller, with the LIDAR module pluged in as a Ethernet device. Based only on the maximum connection speed and packet size of 10 bytes for a single point calculate the maximum number of points that can be recieved by the controller in one second. (Hint: make sure you know the difference between megabits per second (Mbps) and megabytes per second (MBps))"
   ]
  },
  {
   "cell_type": "markdown",
   "metadata": {},
   "source": []
  },
  {
   "cell_type": "markdown",
   "metadata": {},
   "source": [
    "### Part B: Point cloud size\n",
    "The Robot also has an Xbox kintect (1st Gen) for detecting and interacting with users. The xbox kinect it interfaced with using ROS and returns a sensor_msgs/PointCloud message with 640x480 points, a header size of 128bits and a single channel taking 32 bits. Using rosmsg command to help, calculate the size of one scan in bits."
   ]
  },
  {
   "cell_type": "markdown",
   "metadata": {},
   "source": []
  },
  {
   "cell_type": "markdown",
   "metadata": {},
   "source": [
    "### Part C: Refresh rate\n",
    "Along with the LIDAR and Xbox kinect the Robot also has a 4K webcam object recognition, but the raspberry pi does not have the processing power required to perform all the data processing on board. To combat this the Raspberry Pi streams the data over wifi to a more powerful computer. This wifi connection is not consistent though and has data rates from 300Mbps to 130Mbps depending on the location of the robot. Asumming a full scan LIDAR scan consists of 30 000 points and each webcam image is 4MB, calculate the maximum and minimum refresh rates of the full system using your answer from part B, assuming only one way communication. What are some ways of improving this refresh rate? (Hint: 1MB = 1024KB, 1KB = 1024B)"
   ]
  },
  {
   "cell_type": "markdown",
   "metadata": {},
   "source": []
  }
 ],
 "metadata": {
  "kernelspec": {
   "display_name": "Python 3",
   "language": "python",
   "name": "python3"
  },
  "language_info": {
   "codemirror_mode": {
    "name": "ipython",
    "version": 3
   },
   "file_extension": ".py",
   "mimetype": "text/x-python",
   "name": "python",
   "nbconvert_exporter": "python",
   "pygments_lexer": "ipython3",
   "version": "3.7.6"
  }
 },
 "nbformat": 4,
 "nbformat_minor": 4
}
