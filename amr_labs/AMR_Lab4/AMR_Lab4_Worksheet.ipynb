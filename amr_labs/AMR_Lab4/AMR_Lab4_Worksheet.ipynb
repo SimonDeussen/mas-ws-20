{
 "cells": [
  {
   "cell_type": "markdown",
   "metadata": {},
   "source": [
    "# Locomotion\n",
    "In this workbook we will be dealing with robot locomotion and how this can be modeled by the controller. This can be very helpful in other tasks like localiaation and path planning which will be covered in future workbooks."
   ]
  },
  {
   "cell_type": "code",
   "execution_count": 1,
   "metadata": {},
   "outputs": [],
   "source": [
    "import numpy as np\n",
    "from matplotlib import pyplot as plt"
   ]
  },
  {
   "cell_type": "markdown",
   "metadata": {},
   "source": [
    "## Exercise 1: Encoders\n",
    "The goal of this exercise is to translate raw encoder output to a realistic data format which can be easily used in calculation.\n",
    "\n",
    "### Part A\n",
    "An optical encoder wheel is used to detect the rotations of the robots wheels. The data from the encoder wheel sensors are fed into a [HCTL-2000](data/HTCL-20XX-family-datasheet.pdf) IC which then counts the number of \"ticks\" completed by the wheel. The controller then reads this tick count from the HTCL-2000 and uses them to model the robots movements.\n",
    "\n",
    "1. Given an encoder wheel with 1000 windows and the IC in quatrature mode how many \"ticks\" would be counted per wheel rotation?  \n",
    "\n",
    "### Part B\n",
    "Given the data/encoder.dat file write a program that translates ticks into rad/s given the encoder set-up described in part A. In the dat file the left hand column is represents the left wheel, and the right hand column the right wheel. The total number of ticks is read at 100Hz and the counter is never reset, i.e. the measurements are cumulative. Finally plot the speed of the left and right angular velocities over time."
   ]
  },
  {
   "cell_type": "code",
   "execution_count": null,
   "metadata": {},
   "outputs": [],
   "source": []
  },
  {
   "cell_type": "markdown",
   "metadata": {},
   "source": [
    "#### Bonus:\n",
    "What could be a cause of the large peaks in the graph? Discuss and implement a solution to remove these peaks."
   ]
  },
  {
   "cell_type": "markdown",
   "metadata": {},
   "source": [
    "## Exercise 2: Kinematics\n",
    "For this exercise you will be developing the kinematics model of a simple differential drive robot. There are many different kinematic models, and each model is specific to that type of robot.\n",
    "![kinematics_diagram](data/kinematics_diagram.png)\n",
    "### Part A\n",
    "Answer the following questions which will assist you in building your kinematic model. Please follow the variable notation in the diagram above or have a legend describing the meaning of each variable you use.\n",
    "1. Describe the wheels linear velocity in terms of the wheels radius and angular rotation:  \n",
    "2. Describe the instantaneous change of the robots orientation (rotation) in terms of the left and right wheel velocities along with the distance between the two wheels. i.e. Find $\\frac{d\\theta}{dt}$:  \n",
    "3. Describe the instantaneous change of the robots position in terms of the two wheel velocities and the robots orientation. i.e. Find $ \\frac{dx}{dt} $ and $\\frac{dy}{dt}$:  \n",
    "4. Convert the equations in 2. and 3. from instantaneous time to discrete time. i.e. Integrate the equations relative to time and describe the movements $\\Delta \\theta$, $\\Delta x$ and $\\Delta y$ in terms of $\\Delta t$:  \n",
    "5. Finally describe the current values, $x_n$, $y_n$, $\\theta_n$ in terms of the previous values, change of state, angular velocities and dimension parameters, $x_{n-1}$, $y_{n-1}$, $\\theta_{n-1}$, $\\Delta t$, $\\omega_l$, $\\omega_r$ $r_w$, and $b$. i.e. Create state update equations and eliminate the reliance on wheel linear velocity:   \n",
    "Hint: The Hertzberg chapter 4.2.1 may be helpful, but some thinking and derivation is still required.\n",
    "\n",
    "### Part B\n",
    "Implement the above equations in code and then use it to model a 3 second movement from $[0.1, 0.1]$ with with a current orientation of $\\theta = 0.2 rad$. The wheel angular velocities are 1.0 rad/s and 2.0 rad/s for the left and right wheels respectively. The robot has a base line (b) of 15cm and wheel radii ($r_w$) of 2.5cm. Use an update time of 0.1 seconds i.e. $\\Delta t = 0.1$ and cycle until $t_{total} = 3$. You should have a final location of approx. $[0.095, 0.211]$ m and orientation of -0.3 rad. Hint: You may find it easier to create a class with an state update function."
   ]
  },
  {
   "cell_type": "code",
   "execution_count": null,
   "metadata": {},
   "outputs": [],
   "source": []
  },
  {
   "cell_type": "markdown",
   "metadata": {
    "slideshow": {
     "slide_type": "subslide"
    }
   },
   "source": [
    "#### Bonus:\n",
    "Why is it necessary to \"update\" the function every 0.1s instead of one calculation with a $\\Delta t$ of 3 seconds."
   ]
  },
  {
   "cell_type": "markdown",
   "metadata": {},
   "source": [
    "## Exercise 3: Movement tracking\n",
    "Assuming there is no error or slippage use the code you wrote previously to track the movement of the robot given the data/encoder.dat file. You should produce a graph that maps the full movement of robot using the same dimensions and models given above."
   ]
  },
  {
   "cell_type": "code",
   "execution_count": null,
   "metadata": {},
   "outputs": [],
   "source": []
  }
 ],
 "metadata": {
  "kernelspec": {
   "display_name": "Python 3",
   "language": "python",
   "name": "python3"
  },
  "language_info": {
   "codemirror_mode": {
    "name": "ipython",
    "version": 3
   },
   "file_extension": ".py",
   "mimetype": "text/x-python",
   "name": "python",
   "nbconvert_exporter": "python",
   "pygments_lexer": "ipython3",
   "version": "3.7.6"
  }
 },
 "nbformat": 4,
 "nbformat_minor": 4
}
