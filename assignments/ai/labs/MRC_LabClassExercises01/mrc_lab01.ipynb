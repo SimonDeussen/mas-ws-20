{
 "cells": [
  {
   "cell_type": "markdown",
   "metadata": {
    "collapsed": true
   },
   "source": [
    "# Hochschule Bonn-Rhein-Sieg\n",
    "\n",
    "# Mathematics for Robotics and Control, WS19\n",
    "\n",
    "# 01 - Introduction to Python for Mathematics"
   ]
  },
  {
   "cell_type": "code",
   "execution_count": 5,
   "metadata": {},
   "outputs": [],
   "source": [
    "###### Run this cell (Ctrl + enter) when you first open \n",
    "###### the notebook to import all packages\n",
    "import numpy as np\n",
    "import numpy.linalg as linalg\n",
    "import scipy as scp\n",
    "import sympy as sp\n",
    "import matplotlib.pyplot as plt\n",
    "Requirements for passing the seminar\n",
    "The seminar will be graded based on your performance in the following three areas:\n",
    "1. Regular presence and delivery of homework in satisfying quality: 40% of final grade.\n",
    "2. Delivery of seminar report in satisfying quality: 40% of final grade.\n",
    "3. Pitching your seminar report in the second exam period: 20% of final grade.\n",
    "\n",
    "Should your performance be insufficient in one of the above areas, then the seminar as whole counts as failed. The seminar report has to be delivered by 15.08.2019. It will be an annotated bibliography comprising reading reports on the top 30 papers collected on a subject of your choice. Each reading report shall not consist of less than 4000 characters (without space). The final pitch will consist of a 5 minutes presentation followed by 2 minutes Q&A. In the pitch you are expected to identify the three main challenges in the research area, which you chose for your ISW. For each challenge you should provide at least three references that share / support your assessment of the importance and relevance of the challenge.\n",
    "\n",
    "The main learning paradigm of the seminar report is inductive learning (i.e. learning from positive and negative examples). This requires that students regularly present their ideas and their work and obtain constructive criticism, which in turn requires the students to regularly attend the seminar (minimum 80% of all sessions). Should you become sick then please, provide a medical certificate.\n",
    "\n",
    "\n",
    "import imageio\n",
    "from skimage import transform\n",
    "%matplotlib inline"
   ]
  },
  {
   "cell_type": "markdown",
   "metadata": {},
   "source": [
    "To find the documentation for a function, use a ? after the function as below and run the cell"
   ]
  },
  {
   "cell_type": "code",
   "execution_count": 6,
   "metadata": {},
   "outputs": [],
   "source": [
    "np.array?"
   ]
  },
  {
   "cell_type": "markdown",
   "metadata": {},
   "source": [
    "## Creating a rotation matrix\n",
    "\n",
    "Let's suppose that we have a robot that is located at the origin of the world frame, such that its local coordinate system is aligned with the world frame. The robot now rotates counterclockwise by $\\frac{\\pi}{4}$ radians around the $z$-axis. Our task is to define a rotation matrix that expresses the robot's rotation; in other words, denoting the world frame by $A$ and the robot frame by $B$, we need to express the matrix ${}^A_BR$."
   ]
  },
  {
   "cell_type": "code",
   "execution_count": 9,
   "metadata": {
    "scrolled": true
   },
   "outputs": [
    {
     "name": "stdout",
     "output_type": "stream",
     "text": [
      "[[ 0.70710678 -0.70710678  0.        ]\n",
      " [ 0.70710678  0.70710678  0.        ]\n",
      " [ 0.          0.          1.        ]]\n",
      "[[ 1.          0.          0.        ]\n",
      " [ 0.          0.70710678 -0.70710678]\n",
      " [ 0.          0.70710678  0.70710678]]\n",
      "[[ 0.70710678  0.          0.70710678]\n",
      " [ 0.          1.          0.        ]\n",
      " [-0.70710678  0.          0.70710678]]\n"
     ]
    }
   ],
   "source": [
    "def get_rotation_matrix_z_axis(theta: float) -> np.array:\n",
    "    return np.array([[np.cos(theta), -1 * np.sin(theta), 0],\n",
    "                     [np.sin(theta), np.cos(theta), 0],\n",
    "                     [0, 0, 1]])\n",
    "        \n",
    "def get_rotation_matrix_x_axis(theta: float) -> np.array:\n",
    "    return np.array([[1, 0 ,0],\n",
    "                    [0, np.cos(theta), -1 * np.sin(theta)],\n",
    "                    [0, np.sin(theta), np.cos(theta)]])\n",
    "\n",
    "def get_rotation_matrix_y_axis(theta: float) -> np.array:\n",
    "    return np.array([[np.cos(theta), 0, np.sin(theta)],\n",
    "                     [0, 1 ,0],\n",
    "                     [-1 * np.sin(theta), 0 , np.cos(theta)]])\n",
    "    \n",
    "theta = np.pi / 4.\n",
    "\n",
    "print(get_rotation_matrix_z_axis(theta))\n",
    "print(get_rotation_matrix_x_axis(theta))\n",
    "print(get_rotation_matrix_y_axis(theta))"
   ]
  },
  {
   "cell_type": "markdown",
   "metadata": {},
   "source": [
    "## Plotting the frames\n",
    "\n",
    "Let's now plot the world frame and the rotated frame of the robot together."
   ]
  },
  {
   "cell_type": "code",
   "execution_count": null,
   "metadata": {},
   "outputs": [],
   "source": [
    "# plot the world frame\n",
    "\n",
    "# plot the robot frame\n",
    "\n",
    "# set some plot properties"
   ]
  },
  {
   "cell_type": "markdown",
   "metadata": {},
   "source": [
    "## Translating frames\n",
    "\n",
    "Let's now assume that, instead of rotating, the robot translates by $3$ units along the $x$-axis and $5$ units along the $y$-axis. We could express this in Python as follows:"
   ]
  },
  {
   "cell_type": "code",
   "execution_count": null,
   "metadata": {},
   "outputs": [],
   "source": [
    "# define the current position\n",
    "\n",
    "# define the translation\n",
    "\n",
    "# define the new position"
   ]
  },
  {
   "cell_type": "markdown",
   "metadata": {},
   "source": [
    "## Plotting the frames\n",
    "\n",
    "Let's now plot the world frame and the translated frame of the robot."
   ]
  },
  {
   "cell_type": "code",
   "execution_count": null,
   "metadata": {},
   "outputs": [],
   "source": [
    "# plot the world frame\n",
    "\n",
    "# plot the robot frame\n",
    "\n",
    "# set some plot properties"
   ]
  },
  {
   "cell_type": "markdown",
   "metadata": {},
   "source": [
    "## Combining rotation and translation into a homogeneous transformation matrix\n",
    "\n",
    "Let's now assume that the robot both rotates by $\\frac{\\pi}{4}$ around the $z$-axis and translates by $3$ units along the $x$-axis and $5$ units along the $y$-axis. As we know from the lecture, rotations and translations can be expressed together in a so-called homogeneous transformation matrix. Let's perform this transformation in Python."
   ]
  },
  {
   "cell_type": "code",
   "execution_count": null,
   "metadata": {},
   "outputs": [],
   "source": [
    "\n",
    "Requirements for passing the seminar\n",
    "The seminar will be graded based on your performance in the following three areas:\n",
    "1. Regular presence and delivery of homework in satisfying quality: 40% of final grade.\n",
    "2. Delivery of seminar report in satisfying quality: 40% of final grade.\n",
    "3. Pitching your seminar report in the second exam period: 20% of final grade.\n",
    "\n",
    "Should your performance be insufficient in one of the above areas, then the seminar as whole counts as failed. The seminar report has to be delivered by 15.08.2019. It will be an annotated bibliography comprising reading reports on the top 30 papers collected on a subject of your choice. Each reading report shall not consist of less than 4000 characters (without space). The final pitch will consist of a 5 minutes presentation followed by 2 minutes Q&A. In the pitch you are expected to identify the three main challenges in the research area, which you chose for your ISW. For each challenge you should provide at least three references that share / support your assessment of the importance and relevance of the challenge.\n",
    "\n",
    "The main learning paradigm of the seminar report is inductive learning (i.e. learning from positive and negative examples). This requires that students regularly present their ideas and their work and obtain constructive criticism, which in turn requires the students to regularly attend the seminar (minimum 80% of all sessions). Should you become sick then please, provide a medical certificate.\n",
    "\n",
    "# specify the original position, p_b, of the robot (in homogeneous coordinates)\n",
    "\n",
    "# define the translation\n",
    "\n",
    "# convert p_b into a column vector\n",
    "\n",
    "# create the transformation matrix\n",
    "\n",
    "# transform p_b\n",
    "\n",
    "# select and print the translation column\n",
    "\n",
    "# select and print the last row of the matrix\n",
    "\n",
    "# select and print the translation matrix"
   ]
  },
  {
   "cell_type": "markdown",
   "metadata": {},
   "source": [
    "## Plotting the frames\n",
    "\n",
    "Let's plot the world frame and the transformed robot frame."
   ]
  },
  {
   "cell_type": "code",
   "execution_count": null,
   "metadata": {},
   "outputs": [],
   "source": [
    "# plot the world frame\n",
    "\n",
    "# plot the robot frame\n",
    "\n",
    "# set some plot properties"
   ]
  },
  {
   "cell_type": "markdown",
   "metadata": {},
   "source": [
    "## Symbolic mathematics using symbolic Python"
   ]
  },
  {
   "cell_type": "code",
   "execution_count": null,
   "metadata": {},
   "outputs": [],
   "source": [
    "# create a symbolic variable, x\n",
    "\n",
    "# create a function of x\n",
    "\n",
    "# substitute values into y\n",
    "\n",
    "# differentiate y with respect to x\n",
    "\n",
    "# integrate y with respect to x\n",
    "\n",
    "# substitute values into y_prime"
   ]
  },
  {
   "cell_type": "markdown",
   "metadata": {},
   "source": [
    "## Loading files and plotting 3D data"
   ]
  },
  {
   "cell_type": "code",
   "execution_count": null,
   "metadata": {},
   "outputs": [],
   "source": [
    "from mpl_toolkits.mplot3d import Axes3D\n",
    "\n",
    "# load data\n",
    "\n",
    "# create a 3D scatter plot"
   ]
  },
  {
   "cell_type": "markdown",
   "metadata": {},
   "source": [
    "## Loading and manipulating images"
   ]
  },
  {
   "cell_type": "code",
   "execution_count": null,
   "metadata": {},
   "outputs": [],
   "source": [
    "# load an image using scipy\n",
    "\n",
    "# display the image\n",
    "\n",
    "# resize the image and display the resized version\n",
    "\n",
    "# find edges in the image"
   ]
  },
  {
   "cell_type": "markdown",
   "metadata": {},
   "source": [
    "## Optimising functions using scipy"
   ]
  },
  {
   "cell_type": "code",
   "execution_count": null,
   "metadata": {},
   "outputs": [],
   "source": [
    "# define a function to return the square of a number\n",
    "def f(x: float) -> float:\n",
    "    raise NotImplementedError()\n",
    "\n",
    "# define a function to return the differential of x**2\n",
    "def f_prime(x: float) -> float:\n",
    "    raise NotImplementedError()\n",
    "\n",
    "# optimising x**2 starting at x = 0.5 (the minimum occurs \n",
    "# at x = 0, so that's the expected solution)"
   ]
  }
 ],
 "metadata": {
  "kernelspec": {
   "display_name": "Python 3",
   "language": "python",
   "name": "python3"
  },
  "language_info": {
   "codemirror_mode": {
    "name": "ipython",
    "version": 3
   },
   "file_extension": ".py",
   "mimetype": "text/x-python",
   "name": "python",
   "nbconvert_exporter": "python",
   "pygments_lexer": "ipython3",
   "version": "3.8.5"
  }
 },
 "nbformat": 4,
 "nbformat_minor": 2
}
